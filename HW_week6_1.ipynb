{
 "cells": [
  {
   "cell_type": "code",
   "execution_count": 7,
   "metadata": {},
   "outputs": [
    {
     "name": "stdout",
     "output_type": "stream",
     "text": [
      "첫 번째 정수 : 52\n",
      "두 번째 정수 : 89\n",
      "연산자 : +\n",
      "52 + 89 = 141\n"
     ]
    }
   ],
   "source": [
    "a = int(input(\"첫 번째 정수 : \"))\n",
    "b = int(input(\"두 번째 정수 : \"))\n",
    "c = input(\"연산자 : \")\n",
    "\n",
    "if(c == '+'):\n",
    "    print(a, c, b, '=', a+b)\n",
    "elif(c == '-'):\n",
    "    print(a, c, b, '=', a-b)\n",
    "elif(c == '*'):\n",
    "    print(a, c, b, '=', a*b)\n",
    "elif(c == '//'):\n",
    "    print(a, c, b, '=', a//b)\n",
    "elif(c == '/'):\n",
    "    print(a, c, b, '=', a/b)\n",
    "else:\n",
    "    print(a, c, b, '=', a%b)"
   ]
  },
  {
   "cell_type": "code",
   "execution_count": 8,
   "metadata": {},
   "outputs": [
    {
     "name": "stdout",
     "output_type": "stream",
     "text": [
      "첫 번째 정수 : 23\n",
      "두 번째 정수 : 13\n",
      "연산자 : %\n",
      "23 % 13 = 10\n"
     ]
    }
   ],
   "source": [
    "a = int(input(\"첫 번째 정수 : \"))\n",
    "b = int(input(\"두 번째 정수 : \"))\n",
    "c = input(\"연산자 : \")\n",
    "\n",
    "if(c == '+'):\n",
    "    print(a, c, b, '=', a+b)\n",
    "elif(c == '-'):\n",
    "    print(a, c, b, '=', a-b)\n",
    "elif(c == '*'):\n",
    "    print(a, c, b, '=', a*b)\n",
    "elif(c == '//'):\n",
    "    print(a, c, b, '=', a//b)\n",
    "elif(c == '/'):\n",
    "    print(a, c, b, '=', a/b)\n",
    "else:\n",
    "    print(a, c, b, '=', a%b)"
   ]
  },
  {
   "cell_type": "code",
   "execution_count": null,
   "metadata": {},
   "outputs": [],
   "source": []
  }
 ],
 "metadata": {
  "kernelspec": {
   "display_name": "Python 3",
   "language": "python",
   "name": "python3"
  },
  "language_info": {
   "codemirror_mode": {
    "name": "ipython",
    "version": 3
   },
   "file_extension": ".py",
   "mimetype": "text/x-python",
   "name": "python",
   "nbconvert_exporter": "python",
   "pygments_lexer": "ipython3",
   "version": "3.7.6"
  }
 },
 "nbformat": 4,
 "nbformat_minor": 4
}
