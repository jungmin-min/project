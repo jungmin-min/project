{
 "cells": [
  {
   "cell_type": "code",
   "execution_count": null,
   "metadata": {},
   "outputs": [
    {
     "name": "stdout",
     "output_type": "stream",
     "text": [
      "번호 1\n",
      "국어 점수 : 95\n",
      "영어 점수 : 55\n",
      "수학 점수 : 84\n",
      "물리 점수 : 59\n",
      "================================================\n",
      " 번호   국어  영어  수학  물리  총점  평균  학점\n",
      "================================================\n",
      "  1    95    55    84    59    293    73.25    C\n"
     ]
    }
   ],
   "source": [
    "for x in range(5):\n",
    "    num = int(input(\"번호 \"))\n",
    "    a = int(input(\"국어 점수 : \"))\n",
    "    b = int(input(\"영어 점수 : \"))\n",
    "    c = int(input(\"수학 점수 : \"))\n",
    "    d = int(input(\"물리 점수 : \"))\n",
    "    \n",
    "    sum = a+b+c+d\n",
    "    avg = float(sum) / 4.0\n",
    "    \n",
    "    if(avg >= 90):\n",
    "        grade = 'A'\n",
    "    elif(avg >= 80):\n",
    "        grade = 'B'\n",
    "    elif(avg >= 70):\n",
    "        grade = 'C'\n",
    "    elif(avg >= 60):\n",
    "        grade = 'D'\n",
    "    else:\n",
    "        grade = 'F'\n",
    "    print(\"================================================\")\n",
    "    print(\" 번호   국어  영어  수학  물리  총점  평균  학점\")\n",
    "    print(\"================================================\")\n",
    "    print(\" \",num,\"  \", a,\"  \", b,\"  \", c,\"  \", d,\"  \", sum,\"  \", avg,\"  \", grade)\n",
    "\n",
    "    \n",
    "\n"
   ]
  },
  {
   "cell_type": "code",
   "execution_count": null,
   "metadata": {},
   "outputs": [],
   "source": []
  }
 ],
 "metadata": {
  "kernelspec": {
   "display_name": "Python 3",
   "language": "python",
   "name": "python3"
  },
  "language_info": {
   "codemirror_mode": {
    "name": "ipython",
    "version": 3
   },
   "file_extension": ".py",
   "mimetype": "text/x-python",
   "name": "python",
   "nbconvert_exporter": "python",
   "pygments_lexer": "ipython3",
   "version": "3.7.6"
  }
 },
 "nbformat": 4,
 "nbformat_minor": 4
}
