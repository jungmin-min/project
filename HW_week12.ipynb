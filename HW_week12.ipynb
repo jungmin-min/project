{
 "cells": [
  {
   "cell_type": "code",
   "execution_count": 1,
   "metadata": {},
   "outputs": [
    {
     "name": "stdout",
     "output_type": "stream",
     "text": [
      "Python version :  3.7.6 (default, Jan  8 2020, 20:23:39) [MSC v.1916 64 bit (AMD64)]\n",
      "TensorFlow version :  1.14.0\n",
      "Keras version :  2.3.1\n"
     ]
    },
    {
     "name": "stderr",
     "output_type": "stream",
     "text": [
      "Using TensorFlow backend.\n"
     ]
    }
   ],
   "source": [
    "import warnings\n",
    "warnings.simplefilter(action='ignore', category = FutureWarning)\n",
    "\n",
    "import sys\n",
    "import tensorflow as tf\n",
    "import keras\n",
    "from keras.models import Sequential\n",
    "from keras.layers import Dense, Dropout, Flatten\n",
    "from keras.layers.convolutional import Conv2D, MaxPooling2D\n",
    "import numpy as np\n",
    "np.random.seed(7)\n",
    "\n",
    "print('Python version : ', sys.version)\n",
    "print('TensorFlow version : ', tf.__version__)\n",
    "print('Keras version : ', keras.__version__)"
   ]
  },
  {
   "cell_type": "code",
   "execution_count": 2,
   "metadata": {},
   "outputs": [
    {
     "data": {
      "image/png": "[encoded data removed]",
      "text/plain": [
       "<Figure size 432x72 with 36 Axes>"
      ]
     },
     "metadata": {
      "needs_background": "light"
     },
     "output_type": "display_data"
    }
   ],
   "source": [
    "from keras.datasets import mnist\n",
    "mnist = keras.datasets.mnist\n",
    "\n",
    "(X_train0, y_train0), (X_test0, y_test0) = mnist.load_data()\n",
    "\n",
    "import matplotlib.pylab as plt\n",
    "\n",
    "plt.figure(figsize = (6, 1))\n",
    "for i in range(36):\n",
    "    plt.subplot(3,12,i+1)\n",
    "    plt.imshow(X_train0[i], cmap='gray')\n",
    "    plt.axis(\"off\")\n",
    "plt.show()"
   ]
  },
  {
   "cell_type": "code",
   "execution_count": 3,
   "metadata": {},
   "outputs": [
    {
     "name": "stdout",
     "output_type": "stream",
     "text": [
      "x_train shape:  (60000, 28, 28, 1)\n",
      "60000 train samples\n",
      "10000 test samples\n"
     ]
    }
   ],
   "source": [
    "img_rows = 28\n",
    "img_cols = 28\n",
    "\n",
    "(x_train, y_train),(x_test, y_test) = keras.datasets.mnist.load_data()\n",
    "\n",
    "input_shape = (img_rows, img_cols, 1)\n",
    "x_train = x_train.reshape(x_train.shape[0], img_rows, img_cols, 1)\n",
    "x_test = x_test.reshape(x_test.shape[0], img_rows, img_cols, 1)\n",
    "\n",
    "x_train = x_train.astype('float32') / 255.\n",
    "x_test = x_test.astype('float32') / 255.\n",
    "\n",
    "print('x_train shape: ', x_train.shape)\n",
    "print(x_train.shape[0], 'train samples')\n",
    "print(x_test.shape[0], 'test samples')\n",
    "\n",
    "batch_size = 128\n",
    "num_classes = 10\n",
    "epochs = 12\n",
    "\n",
    "y_train = keras.utils.to_categorical(y_train, num_classes)\n",
    "y_test = keras.utils.to_categorical(y_test, num_classes)"
   ]
  },
  {
   "cell_type": "code",
   "execution_count": 6,
   "metadata": {},
   "outputs": [
    {
     "name": "stdout",
     "output_type": "stream",
     "text": [
      "Model: \"sequential_3\"\n",
      "_________________________________________________________________\n",
      "Layer (type)                 Output Shape              Param #   \n",
      "=================================================================\n",
      "conv2d_5 (Conv2D)            (None, 28, 28, 23)        598       \n",
      "_________________________________________________________________\n",
      "max_pooling2d_3 (MaxPooling2 (None, 14, 14, 23)        0         \n",
      "_________________________________________________________________\n",
      "conv2d_6 (Conv2D)            (None, 14, 14, 64)        5952      \n",
      "_________________________________________________________________\n",
      "dropout_5 (Dropout)          (None, 14, 14, 64)        0         \n",
      "_________________________________________________________________\n",
      "flatten_3 (Flatten)          (None, 12544)             0         \n",
      "_________________________________________________________________\n",
      "dense_5 (Dense)              (None, 1000)              12545000  \n",
      "_________________________________________________________________\n",
      "dropout_6 (Dropout)          (None, 1000)              0         \n",
      "_________________________________________________________________\n",
      "dense_6 (Dense)              (None, 10)                10010     \n",
      "=================================================================\n",
      "Total params: 12,561,560\n",
      "Trainable params: 12,561,560\n",
      "Non-trainable params: 0\n",
      "_________________________________________________________________\n"
     ]
    }
   ],
   "source": [
    "\n",
    "model = Sequential()\n",
    "model.add(Conv2D(23, kernel_size=(5,5), strides=(1,1), padding='same', \n",
    "                 activation = 'relu', input_shape=input_shape))\n",
    "model.add(MaxPooling2D(pool_size=(2,2), strides=(2,2)))\n",
    "model.add(Conv2D(64, (2,2), activation='relu', padding='same'))\n",
    "model.add(Dropout(0.25))\n",
    "model.add(Flatten())\n",
    "model.add(Dense(1000, activation='relu'))\n",
    "model.add(Dropout(0.5))\n",
    "model.add(Dense(num_classes, activation='softmax'))\n",
    "model.summary()"
   ]
  },
  {
   "cell_type": "code",
   "execution_count": 7,
   "metadata": {},
   "outputs": [
    {
     "name": "stdout",
     "output_type": "stream",
     "text": [
      "WARNING:tensorflow:From C:\\Users\\LG\\anaconda3\\lib\\site-packages\\keras\\backend\\tensorflow_backend.py:422: The name tf.global_variables is deprecated. Please use tf.compat.v1.global_variables instead.\n",
      "\n",
      "Train on 60000 samples, validate on 10000 samples\n",
      "Epoch 1/12\n",
      "60000/60000 [==============================] - 172s 3ms/step - loss: 0.1534 - accuracy: 0.9535 - val_loss: 0.0454 - val_accuracy: 0.9841\n",
      "Epoch 2/12\n",
      "60000/60000 [==============================] - 164s 3ms/step - loss: 0.0511 - accuracy: 0.9844 - val_loss: 0.0317 - val_accuracy: 0.9894\n",
      "Epoch 3/12\n",
      "60000/60000 [==============================] - 156s 3ms/step - loss: 0.0355 - accuracy: 0.9889 - val_loss: 0.0277 - val_accuracy: 0.9914\n",
      "Epoch 4/12\n",
      "60000/60000 [==============================] - 157s 3ms/step - loss: 0.0272 - accuracy: 0.9910 - val_loss: 0.0242 - val_accuracy: 0.9916\n",
      "Epoch 5/12\n",
      "60000/60000 [==============================] - 156s 3ms/step - loss: 0.0224 - accuracy: 0.9932 - val_loss: 0.0208 - val_accuracy: 0.9937\n",
      "Epoch 6/12\n",
      "60000/60000 [==============================] - 153s 3ms/step - loss: 0.0187 - accuracy: 0.9939 - val_loss: 0.0263 - val_accuracy: 0.9920\n",
      "Epoch 7/12\n",
      "60000/60000 [==============================] - 152s 3ms/step - loss: 0.0169 - accuracy: 0.9944 - val_loss: 0.0281 - val_accuracy: 0.9907\n",
      "Epoch 8/12\n",
      "60000/60000 [==============================] - 152s 3ms/step - loss: 0.0136 - accuracy: 0.9954 - val_loss: 0.0275 - val_accuracy: 0.9915\n",
      "Epoch 9/12\n",
      "60000/60000 [==============================] - 158s 3ms/step - loss: 0.0123 - accuracy: 0.9960 - val_loss: 0.0253 - val_accuracy: 0.9916\n",
      "Epoch 10/12\n",
      "60000/60000 [==============================] - 158s 3ms/step - loss: 0.0096 - accuracy: 0.9967 - val_loss: 0.0343 - val_accuracy: 0.9907\n",
      "Epoch 11/12\n",
      "60000/60000 [==============================] - 162s 3ms/step - loss: 0.0107 - accuracy: 0.9964 - val_loss: 0.0273 - val_accuracy: 0.9923\n",
      "Epoch 12/12\n",
      "60000/60000 [==============================] - 158s 3ms/step - loss: 0.0072 - accuracy: 0.9976 - val_loss: 0.0314 - val_accuracy: 0.9931\n"
     ]
    }
   ],
   "source": [
    "from keras.optimizers import Adam\n",
    "\n",
    "model.compile(loss='categorical_crossentropy', optimizer='adam', metrics=['accuracy'])\n",
    "hist = model.fit(x_train, y_train, batch_size = batch_size, epochs=epochs, \n",
    "                verbose = 1, validation_data=(x_test, y_test))"
   ]
  },
  {
   "cell_type": "code",
   "execution_count": 8,
   "metadata": {},
   "outputs": [
    {
     "name": "stdout",
     "output_type": "stream",
     "text": [
      "Test loss:  0.03141142199306218\n",
      "Test accuracy:  0.9930999875068665\n"
     ]
    },
    {
     "data": {
      "image/png": "[encoded data removed]",
      "text/plain": [
       "<Figure size 432x288 with 1 Axes>"
      ]
     },
     "metadata": {
      "needs_background": "light"
     },
     "output_type": "display_data"
    }
   ],
   "source": [
    "score = model.evaluate(x_test, y_test, verbose=0)\n",
    "print('Test loss: ', score[0])\n",
    "print('Test accuracy: ', score[1])\n",
    "\n",
    "y_vloss = hist.history['val_loss']\n",
    "y_loss = hist.history['loss']\n",
    "x_len = np.arange(len(y_loss))\n",
    "plt.plot(x_len, y_vloss, marker = '.', c = \"red\", label = 'Testset_loss')\n",
    "plt.plot(x_len, y_loss, marker = '.', c=\"blue\", label='Trainset_loss')\n",
    "plt.legend(loc='upper right')\n",
    "plt.grid()\n",
    "plt.xlabel('epoch')\n",
    "plt.ylabel('loss')\n",
    "plt.show()"
   ]
  },
  {
   "cell_type": "code",
   "execution_count": 9,
   "metadata": {},
   "outputs": [
    {
     "data": {
      "image/png": "[encoded data removed]",
      "text/plain": [
       "<Figure size 432x288 with 1 Axes>"
      ]
     },
     "metadata": {
      "needs_background": "light"
     },
     "output_type": "display_data"
    },
    {
     "name": "stdout",
     "output_type": "stream",
     "text": [
      "The Answer is  [7]\n"
     ]
    }
   ],
   "source": [
    "n = 0\n",
    "plt.imshow(x_test[n].reshape(28,28), cmap='Greys', interpolation='nearest')\n",
    "plt.show()\n",
    "print('The Answer is ', model.predict_classes(x_test[n].reshape((1,28,28,1))))"
   ]
  },
  {
   "cell_type": "code",
   "execution_count": null,
   "metadata": {},
   "outputs": [],
   "source": []
  }
 ],
 "metadata": {
  "kernelspec": {
   "display_name": "Python 3",
   "language": "python",
   "name": "python3"
  },
  "language_info": {
   "codemirror_mode": {
    "name": "ipython",
    "version": 3
   },
   "file_extension": ".py",
   "mimetype": "text/x-python",
   "name": "python",
   "nbconvert_exporter": "python",
   "pygments_lexer": "ipython3",
   "version": "3.7.6"
  }
 },
 "nbformat": 4,
 "nbformat_minor": 4
}
