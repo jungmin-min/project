{
 "cells": [
  {
   "cell_type": "code",
   "execution_count": 1,
   "metadata": {},
   "outputs": [
    {
     "name": "stdout",
     "output_type": "stream",
     "text": [
      "첫 번째 값을 입력하시오: 9\n",
      "첫 번째 값을 입력하시오: 2\n",
      "num1 + num2 =  11\n",
      "num1 - num2 =  7\n",
      "num1 * num2 =  18\n",
      "num1 / num2 =  4.5\n",
      "num1 // num2 =  4\n",
      "num1 % num2 =  1\n"
     ]
    }
   ],
   "source": [
    "num1 = int(input(\"첫 번째 값을 입력하시오: \"))\n",
    "num2 = int(input(\"첫 번째 값을 입력하시오: \"))\n",
    "print(\"num1 + num2 = \", (num1 + num2))\n",
    "print(\"num1 - num2 = \", (num1 - num2))\n",
    "print(\"num1 * num2 = \", (num1 * num2))\n",
    "print(\"num1 / num2 = \", (num1 / num2))\n",
    "print(\"num1 // num2 = \", (num1 // num2))\n",
    "print(\"num1 % num2 = \", (num1 % num2))"
   ]
  },
  {
   "cell_type": "code",
   "execution_count": null,
   "metadata": {},
   "outputs": [],
   "source": []
  }
 ],
 "metadata": {
  "kernelspec": {
   "display_name": "Python 3",
   "language": "python",
   "name": "python3"
  },
  "language_info": {
   "codemirror_mode": {
    "name": "ipython",
    "version": 3
   },
   "file_extension": ".py",
   "mimetype": "text/x-python",
   "name": "python",
   "nbconvert_exporter": "python",
   "pygments_lexer": "ipython3",
   "version": "3.7.6"
  }
 },
 "nbformat": 4,
 "nbformat_minor": 4
}
